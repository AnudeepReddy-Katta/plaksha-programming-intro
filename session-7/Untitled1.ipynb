{
 "cells": [
  {
   "cell_type": "code",
   "execution_count": 10,
   "metadata": {},
   "outputs": [],
   "source": [
    "class Hosteller:\n",
    "    \n",
    "    # self is current object in power\n",
    "    def __init__(self):\n",
    "        self.money = 1000\n",
    "\n",
    "ravi = Hosteller()\n",
    "\n",
    "mohit = Hosteller()\n",
    "\n",
    "print(ravi.money, mohit.money)\n",
    "\n"
   ]
  },
  {
   "cell_type": "code",
   "execution_count": null,
   "metadata": {},
   "outputs": [],
   "source": []
  },
  {
   "cell_type": "code",
   "execution_count": 35,
   "metadata": {},
   "outputs": [
    {
     "name": "stdout",
     "output_type": "stream",
     "text": [
      "1000 1000\n"
     ]
    }
   ],
   "source": [
    "class Hosteller:\n",
    "    \n",
    "    # self is current object in power\n",
    "    def __init__(self):\n",
    "        self.money = 1000\n",
    "    \n",
    "    def party(self):\n",
    "        if self.money >= 200:\n",
    "            self.money -= 200\n",
    "            print(\"After party money is {}\".format(self.money))\n",
    "            \n",
    "        else:\n",
    "            print(\"Go get some money money\")\n",
    "\n",
    "ravi = Hosteller()\n",
    "\n",
    "mohit = Hosteller()\n",
    "\n",
    "print(ravi.money, mohit.money)"
   ]
  },
  {
   "cell_type": "code",
   "execution_count": 36,
   "metadata": {},
   "outputs": [
    {
     "name": "stdout",
     "output_type": "stream",
     "text": [
      "After party money is 800\n"
     ]
    }
   ],
   "source": [
    "ravi.party()"
   ]
  },
  {
   "cell_type": "code",
   "execution_count": 41,
   "metadata": {},
   "outputs": [
    {
     "name": "stdout",
     "output_type": "stream",
     "text": [
      "Go get some money money\n"
     ]
    }
   ],
   "source": [
    "ravi.party()"
   ]
  },
  {
   "cell_type": "code",
   "execution_count": 45,
   "metadata": {},
   "outputs": [
    {
     "data": {
      "text/plain": [
       "1000"
      ]
     },
     "execution_count": 45,
     "metadata": {},
     "output_type": "execute_result"
    }
   ],
   "source": [
    "mohit.money"
   ]
  },
  {
   "cell_type": "code",
   "execution_count": 57,
   "metadata": {},
   "outputs": [
    {
     "name": "stdout",
     "output_type": "stream",
     "text": [
      "1000 1000\n"
     ]
    }
   ],
   "source": [
    "class Hosteller:\n",
    "    \n",
    "    # self is current object in power\n",
    "    def __init__(self):\n",
    "        self.money = 1000\n",
    "    \n",
    "    def party(self):\n",
    "        if self.money >= 200:\n",
    "            self.money -= 200\n",
    "            print(\"After party money is {}\".format(self.money))\n",
    "            \n",
    "        else:\n",
    "            print(\"Go get some money money\")\n",
    "    \n",
    "    def borrow(self, friend):\n",
    "        friend.money -= 500\n",
    "        self.money += 500\n",
    "\n",
    "ravi = Hosteller()\n",
    "\n",
    "mohit = Hosteller()\n",
    "\n",
    "print(ravi.money, mohit.money)"
   ]
  },
  {
   "cell_type": "code",
   "execution_count": 58,
   "metadata": {},
   "outputs": [
    {
     "name": "stdout",
     "output_type": "stream",
     "text": [
      "After party money is 800\n",
      "After party money is 600\n",
      "After party money is 400\n",
      "After party money is 200\n",
      "After party money is 0\n",
      "Go get some money money\n"
     ]
    }
   ],
   "source": [
    "for i in range(6):\n",
    "    ravi.party()"
   ]
  },
  {
   "cell_type": "code",
   "execution_count": 59,
   "metadata": {},
   "outputs": [],
   "source": [
    "ravi.borrow(mohit)"
   ]
  },
  {
   "cell_type": "code",
   "execution_count": 60,
   "metadata": {},
   "outputs": [
    {
     "data": {
      "text/plain": [
       "500"
      ]
     },
     "execution_count": 60,
     "metadata": {},
     "output_type": "execute_result"
    }
   ],
   "source": [
    "ravi.money"
   ]
  },
  {
   "cell_type": "code",
   "execution_count": 61,
   "metadata": {},
   "outputs": [
    {
     "data": {
      "text/plain": [
       "500"
      ]
     },
     "execution_count": 61,
     "metadata": {},
     "output_type": "execute_result"
    }
   ],
   "source": [
    "mohit.money"
   ]
  },
  {
   "cell_type": "code",
   "execution_count": 62,
   "metadata": {},
   "outputs": [],
   "source": [
    "Hosteller.borrow(ravi, mohit)"
   ]
  },
  {
   "cell_type": "code",
   "execution_count": 63,
   "metadata": {},
   "outputs": [
    {
     "data": {
      "text/plain": [
       "1000"
      ]
     },
     "execution_count": 63,
     "metadata": {},
     "output_type": "execute_result"
    }
   ],
   "source": [
    "ravi.money"
   ]
  },
  {
   "cell_type": "code",
   "execution_count": 64,
   "metadata": {},
   "outputs": [
    {
     "data": {
      "text/plain": [
       "0"
      ]
     },
     "execution_count": 64,
     "metadata": {},
     "output_type": "execute_result"
    }
   ],
   "source": [
    "mohit.money"
   ]
  },
  {
   "cell_type": "code",
   "execution_count": null,
   "metadata": {},
   "outputs": [],
   "source": [
    "mohit.party()"
   ]
  },
  {
   "cell_type": "code",
   "execution_count": null,
   "metadata": {},
   "outputs": [],
   "source": [
    "mohit.address = "
   ]
  },
  {
   "cell_type": "code",
   "execution_count": 69,
   "metadata": {},
   "outputs": [
    {
     "data": {
      "text/plain": [
       "['__class__',\n",
       " '__delattr__',\n",
       " '__dict__',\n",
       " '__dir__',\n",
       " '__doc__',\n",
       " '__eq__',\n",
       " '__format__',\n",
       " '__ge__',\n",
       " '__getattribute__',\n",
       " '__gt__',\n",
       " '__hash__',\n",
       " '__init__',\n",
       " '__init_subclass__',\n",
       " '__le__',\n",
       " '__lt__',\n",
       " '__module__',\n",
       " '__ne__',\n",
       " '__new__',\n",
       " '__reduce__',\n",
       " '__reduce_ex__',\n",
       " '__repr__',\n",
       " '__setattr__',\n",
       " '__sizeof__',\n",
       " '__str__',\n",
       " '__subclasshook__',\n",
       " '__weakref__',\n",
       " 'borrow',\n",
       " 'party']"
      ]
     },
     "execution_count": 69,
     "metadata": {},
     "output_type": "execute_result"
    }
   ],
   "source": [
    "dir(Hosteller)"
   ]
  },
  {
   "cell_type": "code",
   "execution_count": 70,
   "metadata": {},
   "outputs": [
    {
     "data": {
      "text/plain": [
       "__main__.Hosteller"
      ]
     },
     "execution_count": 70,
     "metadata": {},
     "output_type": "execute_result"
    }
   ],
   "source": [
    "mohit.__class__"
   ]
  },
  {
   "cell_type": "code",
   "execution_count": null,
   "metadata": {},
   "outputs": [],
   "source": []
  },
  {
   "cell_type": "code",
   "execution_count": null,
   "metadata": {},
   "outputs": [],
   "source": []
  },
  {
   "cell_type": "code",
   "execution_count": 87,
   "metadata": {},
   "outputs": [],
   "source": [
    "class Hosteller:\n",
    "    \n",
    "    # self is current object in power\n",
    "    def __init__(self, name=\"unnamed\", age=18):\n",
    "        self.money = 1000\n",
    "        self.name = name\n",
    "        self.age = age\n",
    "        \n",
    "    def __repr__(self):\n",
    "        return \"[name : {}, age : {}]\".format(self.name, self.age)"
   ]
  },
  {
   "cell_type": "code",
   "execution_count": 88,
   "metadata": {},
   "outputs": [],
   "source": [
    "ravi = Hosteller(\"Ravi\", 23)"
   ]
  },
  {
   "cell_type": "code",
   "execution_count": 89,
   "metadata": {},
   "outputs": [
    {
     "data": {
      "text/plain": [
       "[name : Ravi, age : 23]"
      ]
     },
     "execution_count": 89,
     "metadata": {},
     "output_type": "execute_result"
    }
   ],
   "source": [
    "ravi"
   ]
  },
  {
   "cell_type": "code",
   "execution_count": null,
   "metadata": {},
   "outputs": [],
   "source": []
  },
  {
   "cell_type": "code",
   "execution_count": 90,
   "metadata": {},
   "outputs": [],
   "source": [
    "class Hosteller:\n",
    "    \n",
    "    hostellers = []\n",
    "    \n",
    "    def __init__(self, name=\"unnamed\", age=18):\n",
    "        self.money = 1000\n",
    "        self.name = name\n",
    "        self.age = age\n",
    "        \n",
    "        Hosteller.hostellers.append(self)\n",
    "        \n",
    "    def __repr__(self):\n",
    "        return \"[name : {}, age : {}]\".format(self.name, self.age)"
   ]
  },
  {
   "cell_type": "code",
   "execution_count": 91,
   "metadata": {},
   "outputs": [],
   "source": [
    "shubham = Hosteller(\"Shubham Saini\", 22)"
   ]
  },
  {
   "cell_type": "code",
   "execution_count": 92,
   "metadata": {},
   "outputs": [],
   "source": [
    "mohit = Hosteller(\"Mohit Mishra\", 24)"
   ]
  },
  {
   "cell_type": "code",
   "execution_count": 93,
   "metadata": {},
   "outputs": [
    {
     "data": {
      "text/plain": [
       "[[name : Shubham Saini, age : 22], [name : Mohit Mishra, age : 24]]"
      ]
     },
     "execution_count": 93,
     "metadata": {},
     "output_type": "execute_result"
    }
   ],
   "source": [
    "Hosteller.hostellers"
   ]
  },
  {
   "cell_type": "code",
   "execution_count": 94,
   "metadata": {},
   "outputs": [],
   "source": [
    "class Hosteller:\n",
    "    \n",
    "    hostellers = {}\n",
    "    \n",
    "    def __init__(self, key, name=\"unnamed\", age=18):\n",
    "        self.money = 1000\n",
    "        self.name = name\n",
    "        self.age = age\n",
    "        \n",
    "        Hosteller.hostellers[key] = self\n",
    "        \n",
    "    def __repr__(self):\n",
    "        return \"[name : {}, age : {}]\".format(self.name, self.age)\n",
    "\n",
    "shubham = Hosteller(\"shubham\", \"Shubham Saini\", 22)\n",
    "\n",
    "mohit = Hosteller(\"mohit\", \"Mohit Mishra\", 24)"
   ]
  },
  {
   "cell_type": "code",
   "execution_count": 97,
   "metadata": {},
   "outputs": [
    {
     "data": {
      "text/plain": [
       "{'shubham': [name : Shubham Saini, age : 22],\n",
       " 'mohit': [name : Mohit Mishra, age : 24]}"
      ]
     },
     "execution_count": 97,
     "metadata": {},
     "output_type": "execute_result"
    }
   ],
   "source": [
    "Hosteller.hostellers"
   ]
  },
  {
   "cell_type": "code",
   "execution_count": 121,
   "metadata": {},
   "outputs": [],
   "source": [
    "class Hosteller:\n",
    "    \n",
    "    __aadhar = {}\n",
    "    \n",
    "    def __init__(self, ident, name=\"unnamed\", age=18):\n",
    "        self.__money = 1000\n",
    "        self.name = name\n",
    "        self.age = age\n",
    "        \n",
    "        Hosteller.__aadhar[ident] = self\n",
    "        \n",
    "    def __repr__(self):\n",
    "        return \"[name : {}, age : {}]\".format(self.name, self.age)\n",
    "    \n",
    "    @classmethod\n",
    "    def get(cls, ident):\n",
    "        return cls.__aadhar.get(ident)\n",
    "    \n",
    "    @classmethod\n",
    "    def getBasicDetails(cls):\n",
    "        return str(cls.__aadhar)\n",
    "\n",
    "shubham = Hosteller(\"4356754\", \"Shubham Saini\", 22)\n",
    "\n",
    "mohit = Hosteller(\"678976\", \"Mohit Mishra\", 24)"
   ]
  },
  {
   "cell_type": "code",
   "execution_count": 122,
   "metadata": {},
   "outputs": [
    {
     "data": {
      "text/plain": [
       "[name : Shubham Saini, age : 22]"
      ]
     },
     "execution_count": 122,
     "metadata": {},
     "output_type": "execute_result"
    }
   ],
   "source": [
    "Hosteller.get(\"4356754\")"
   ]
  },
  {
   "cell_type": "code",
   "execution_count": 123,
   "metadata": {},
   "outputs": [
    {
     "data": {
      "text/plain": [
       "\"{'4356754': [name : Shubham Saini, age : 22], '678976': [name : Mohit Mishra, age : 24]}\""
      ]
     },
     "execution_count": 123,
     "metadata": {},
     "output_type": "execute_result"
    }
   ],
   "source": [
    "Hosteller.getBasicDetails()"
   ]
  },
  {
   "cell_type": "code",
   "execution_count": null,
   "metadata": {},
   "outputs": [],
   "source": []
  },
  {
   "cell_type": "code",
   "execution_count": null,
   "metadata": {},
   "outputs": [],
   "source": []
  }
 ],
 "metadata": {
  "kernelspec": {
   "display_name": "Python 3",
   "language": "python",
   "name": "python3"
  },
  "language_info": {
   "codemirror_mode": {
    "name": "ipython",
    "version": 3
   },
   "file_extension": ".py",
   "mimetype": "text/x-python",
   "name": "python",
   "nbconvert_exporter": "python",
   "pygments_lexer": "ipython3",
   "version": "3.7.7"
  }
 },
 "nbformat": 4,
 "nbformat_minor": 4
}
