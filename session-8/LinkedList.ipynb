{
 "cells": [
  {
   "cell_type": "code",
   "execution_count": 30,
   "metadata": {},
   "outputs": [],
   "source": [
    "class Node:\n",
    "    def __init__(self, value, nextNode=None):\n",
    "        self.value = value\n",
    "        self.next = nextNode\n",
    "\n",
    "class LinkedList:\n",
    "    \n",
    "    def __init__(self):\n",
    "        self.__head = None\n",
    "        \n",
    "    "
   ]
  },
  {
   "cell_type": "code",
   "execution_count": 31,
   "metadata": {},
   "outputs": [],
   "source": [
    "ll = LinkedList()"
   ]
  },
  {
   "cell_type": "code",
   "execution_count": 21,
   "metadata": {},
   "outputs": [],
   "source": []
  },
  {
   "cell_type": "code",
   "execution_count": 32,
   "metadata": {},
   "outputs": [
    {
     "data": {
      "text/plain": [
       "'Mohini'"
      ]
     },
     "execution_count": 32,
     "metadata": {},
     "output_type": "execute_result"
    }
   ],
   "source": [
    "mohini = Node(\"Mohini\")\n",
    "\n",
    "ravi = Node(\"Ravi\", mohini)\n",
    "\n",
    "ravi.next.value"
   ]
  },
  {
   "cell_type": "code",
   "execution_count": 52,
   "metadata": {},
   "outputs": [],
   "source": [
    "class Node:\n",
    "    def __init__(self, value, nextNode=None):\n",
    "        self.value = value\n",
    "        self.next = nextNode\n",
    "\n",
    "class LinkedList:\n",
    "    \n",
    "    def __init__(self):\n",
    "        self.__head = None\n",
    "    \n",
    "    def insert_first(self, value):\n",
    "        new_node = Node(value)\n",
    "        new_node.next = self.__head\n",
    "        self.__head = new_node\n",
    "        \n",
    "    def __repr__(self):\n",
    "        \n",
    "        items=[]\n",
    "        temp = self.__head\n",
    "        \n",
    "        while temp != None:\n",
    "            items.append(temp.value)\n",
    "            temp = temp.next\n",
    "        \n",
    "        return \" => \".join(items)\n",
    "        \n",
    "        \n",
    "    "
   ]
  },
  {
   "cell_type": "code",
   "execution_count": 54,
   "metadata": {},
   "outputs": [],
   "source": [
    "ll = LinkedList()\n"
   ]
  },
  {
   "cell_type": "code",
   "execution_count": 55,
   "metadata": {},
   "outputs": [],
   "source": [
    "ll.insert_first(\"Mohini\")\n",
    "ll.insert_first(\"Ravi\")\n",
    "ll.insert_first(\"Neha\")"
   ]
  },
  {
   "cell_type": "code",
   "execution_count": 56,
   "metadata": {},
   "outputs": [
    {
     "data": {
      "text/plain": [
       "Neha => Ravi => Mohini"
      ]
     },
     "execution_count": 56,
     "metadata": {},
     "output_type": "execute_result"
    }
   ],
   "source": [
    "ll"
   ]
  },
  {
   "cell_type": "code",
   "execution_count": 53,
   "metadata": {},
   "outputs": [],
   "source": [
    "# head = None\n",
    "\n",
    "# mohini = Node(\"Mohini\")\n",
    "\n",
    "# mohini.next = head\n",
    "\n",
    "# head = mohini\n",
    "\n",
    "\n",
    "\n",
    "# ravi = Node(\"Ravi\")\n",
    "\n",
    "# ravi.next = head\n",
    "\n",
    "# head = ravi\n",
    "\n",
    "\n",
    "\n",
    "# neha = Node(\"Neha\")\n",
    "\n",
    "# neha.next = head\n",
    "\n",
    "# head = neha\n",
    "\n"
   ]
  },
  {
   "cell_type": "code",
   "execution_count": 51,
   "metadata": {},
   "outputs": [
    {
     "data": {
      "text/plain": [
       "'Mohini'"
      ]
     },
     "execution_count": 51,
     "metadata": {},
     "output_type": "execute_result"
    }
   ],
   "source": [
    "head.next.next.value"
   ]
  },
  {
   "cell_type": "code",
   "execution_count": null,
   "metadata": {},
   "outputs": [],
   "source": []
  }
 ],
 "metadata": {
  "kernelspec": {
   "display_name": "Python 3",
   "language": "python",
   "name": "python3"
  },
  "language_info": {
   "codemirror_mode": {
    "name": "ipython",
    "version": 3
   },
   "file_extension": ".py",
   "mimetype": "text/x-python",
   "name": "python",
   "nbconvert_exporter": "python",
   "pygments_lexer": "ipython3",
   "version": "3.7.7"
  }
 },
 "nbformat": 4,
 "nbformat_minor": 4
}
