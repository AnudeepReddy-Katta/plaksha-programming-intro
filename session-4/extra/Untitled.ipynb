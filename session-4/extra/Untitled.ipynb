{
 "cells": [
  {
   "cell_type": "code",
   "execution_count": 9,
   "metadata": {},
   "outputs": [
    {
     "name": "stdin",
     "output_type": "stream",
     "text": [
      " 12345\n"
     ]
    }
   ],
   "source": [
    "p = int(input())"
   ]
  },
  {
   "cell_type": "code",
   "execution_count": 10,
   "metadata": {},
   "outputs": [
    {
     "name": "stdin",
     "output_type": "stream",
     "text": [
      " 10\n"
     ]
    }
   ],
   "source": [
    "r = int(input())"
   ]
  },
  {
   "cell_type": "code",
   "execution_count": 11,
   "metadata": {},
   "outputs": [
    {
     "name": "stdin",
     "output_type": "stream",
     "text": [
      " 2\n"
     ]
    }
   ],
   "source": [
    "t = int(input())"
   ]
  },
  {
   "cell_type": "code",
   "execution_count": 12,
   "metadata": {},
   "outputs": [],
   "source": [
    "si = (p * r * t) / 100"
   ]
  },
  {
   "cell_type": "code",
   "execution_count": 13,
   "metadata": {},
   "outputs": [
    {
     "data": {
      "text/plain": [
       "2469.0"
      ]
     },
     "execution_count": 13,
     "metadata": {},
     "output_type": "execute_result"
    }
   ],
   "source": [
    "si"
   ]
  },
  {
   "cell_type": "code",
   "execution_count": 18,
   "metadata": {},
   "outputs": [],
   "source": [
    "a = 0x1234"
   ]
  },
  {
   "cell_type": "code",
   "execution_count": 19,
   "metadata": {},
   "outputs": [
    {
     "data": {
      "text/plain": [
       "4660"
      ]
     },
     "execution_count": 19,
     "metadata": {},
     "output_type": "execute_result"
    }
   ],
   "source": [
    "a"
   ]
  },
  {
   "cell_type": "code",
   "execution_count": 20,
   "metadata": {},
   "outputs": [
    {
     "data": {
      "text/plain": [
       "2.75"
      ]
     },
     "execution_count": 20,
     "metadata": {},
     "output_type": "execute_result"
    }
   ],
   "source": [
    "11 / 4"
   ]
  },
  {
   "cell_type": "code",
   "execution_count": 21,
   "metadata": {},
   "outputs": [
    {
     "data": {
      "text/plain": [
       "2"
      ]
     },
     "execution_count": 21,
     "metadata": {},
     "output_type": "execute_result"
    }
   ],
   "source": [
    "11 // 4"
   ]
  },
  {
   "cell_type": "code",
   "execution_count": 22,
   "metadata": {},
   "outputs": [
    {
     "name": "stdin",
     "output_type": "stream",
     "text": [
      "Enter the year you wish to check :  1994\n"
     ]
    }
   ],
   "source": [
    "year = int(input(\"Enter the year you wish to check : \"))"
   ]
  },
  {
   "cell_type": "code",
   "execution_count": 23,
   "metadata": {},
   "outputs": [
    {
     "name": "stdout",
     "output_type": "stream",
     "text": [
      "Not a leap\n"
     ]
    }
   ],
   "source": [
    "if year % 4 == 0:\n",
    "    print(\"Lear year\")\n",
    "else:\n",
    "    print(\"Not a leap\")"
   ]
  },
  {
   "cell_type": "code",
   "execution_count": 39,
   "metadata": {},
   "outputs": [
    {
     "name": "stdout",
     "output_type": "stream",
     "text": [
      "if part\n"
     ]
    }
   ],
   "source": [
    "if -0.1:\n",
    "    print(\"if part\")\n",
    "else:\n",
    "    print(\"else part\")"
   ]
  },
  {
   "cell_type": "code",
   "execution_count": 47,
   "metadata": {},
   "outputs": [
    {
     "data": {
      "text/plain": [
       "'123'"
      ]
     },
     "execution_count": 47,
     "metadata": {},
     "output_type": "execute_result"
    }
   ],
   "source": [
    "0 or \"123\""
   ]
  },
  {
   "cell_type": "code",
   "execution_count": 45,
   "metadata": {},
   "outputs": [
    {
     "data": {
      "text/plain": [
       "True"
      ]
     },
     "execution_count": 45,
     "metadata": {},
     "output_type": "execute_result"
    }
   ],
   "source": [
    "True or 123"
   ]
  },
  {
   "cell_type": "code",
   "execution_count": 48,
   "metadata": {},
   "outputs": [],
   "source": [
    "claps = 5"
   ]
  },
  {
   "cell_type": "code",
   "execution_count": 49,
   "metadata": {},
   "outputs": [],
   "source": [
    "counter = 0"
   ]
  },
  {
   "cell_type": "code",
   "execution_count": 50,
   "metadata": {},
   "outputs": [
    {
     "name": "stdout",
     "output_type": "stream",
     "text": [
      "Clap\n",
      "Clap\n",
      "Clap\n",
      "Clap\n",
      "Clap\n"
     ]
    }
   ],
   "source": [
    "while counter < claps:\n",
    "    print(\"Clap\")\n",
    "    counter += 1"
   ]
  },
  {
   "cell_type": "code",
   "execution_count": 54,
   "metadata": {},
   "outputs": [
    {
     "name": "stdout",
     "output_type": "stream",
     "text": [
      "clap\n",
      "clap\n",
      "clap\n",
      "jump\n",
      "clap\n",
      "clap\n",
      "clap\n",
      "jump\n",
      "clap\n",
      "clap\n",
      "clap\n",
      "jump\n"
     ]
    }
   ],
   "source": [
    "n = 3\n",
    "\n",
    "jump = 0\n",
    "while jump < n:\n",
    "    clap = 0\n",
    "    while clap < n:\n",
    "        print(\"clap\")\n",
    "        clap += 1\n",
    "    \n",
    "    print(\"jump\")\n",
    "    jump += 1\n",
    "        \n"
   ]
  },
  {
   "cell_type": "code",
   "execution_count": 58,
   "metadata": {},
   "outputs": [
    {
     "name": "stdout",
     "output_type": "stream",
     "text": [
      "* * * * * * * * * * \n",
      "* * * * * * * * * * \n",
      "* * * * * * * * * * \n",
      "* * * * * * * * * * \n",
      "* * * * * * * * * * \n",
      "* * * * * * * * * * \n",
      "* * * * * * * * * * \n",
      "* * * * * * * * * * \n",
      "* * * * * * * * * * \n",
      "* * * * * * * * * * \n"
     ]
    }
   ],
   "source": [
    "n = 10\n",
    "\n",
    "row = 0\n",
    "while row < n:\n",
    "    col = 0\n",
    "    while col < n:\n",
    "        print(\"* \", end=\"\")\n",
    "        col += 1\n",
    "    \n",
    "    print()\n",
    "    row += 1"
   ]
  },
  {
   "cell_type": "code",
   "execution_count": 66,
   "metadata": {},
   "outputs": [
    {
     "name": "stdout",
     "output_type": "stream",
     "text": [
      "456\n"
     ]
    }
   ],
   "source": [
    "print(4, end=\"\")\n",
    "print(5, end=\"\")\n",
    "print(6)"
   ]
  },
  {
   "cell_type": "code",
   "execution_count": 61,
   "metadata": {},
   "outputs": [
    {
     "data": {
      "text/plain": [
       "\u001b[0;31mDocstring:\u001b[0m\n",
       "print(value, ..., sep=' ', end='\\n', file=sys.stdout, flush=False)\n",
       "\n",
       "Prints the values to a stream, or to sys.stdout by default.\n",
       "Optional keyword arguments:\n",
       "file:  a file-like object (stream); defaults to the current sys.stdout.\n",
       "sep:   string inserted between values, default a space.\n",
       "end:   string appended after the last value, default a newline.\n",
       "flush: whether to forcibly flush the stream.\n",
       "\u001b[0;31mType:\u001b[0m      builtin_function_or_method\n"
      ]
     },
     "metadata": {},
     "output_type": "display_data"
    }
   ],
   "source": [
    "print?"
   ]
  },
  {
   "cell_type": "code",
   "execution_count": 67,
   "metadata": {},
   "outputs": [
    {
     "name": "stdout",
     "output_type": "stream",
     "text": [
      "* \n",
      "* * \n",
      "* * * \n",
      "* * * * \n",
      "* * * * * \n",
      "* * * * * * \n",
      "* * * * * * * \n",
      "* * * * * * * * \n",
      "* * * * * * * * * \n",
      "* * * * * * * * * * \n"
     ]
    }
   ],
   "source": [
    "n = 10\n",
    "\n",
    "row = 0\n",
    "while row < n:\n",
    "    col = 0\n",
    "    while col <= row:\n",
    "        print(\"* \", end=\"\")\n",
    "        col += 1\n",
    "    \n",
    "    print()\n",
    "    row += 1"
   ]
  },
  {
   "cell_type": "code",
   "execution_count": 68,
   "metadata": {},
   "outputs": [
    {
     "name": "stdout",
     "output_type": "stream",
     "text": [
      "* * * * * * * * * * \n",
      "* * * * * * * * * \n",
      "* * * * * * * * \n",
      "* * * * * * * \n",
      "* * * * * * \n",
      "* * * * * \n",
      "* * * * \n",
      "* * * \n",
      "* * \n",
      "* \n"
     ]
    }
   ],
   "source": [
    "n = 10\n",
    "\n",
    "row = 0\n",
    "while row < n:\n",
    "    col = 0\n",
    "    while col < n - row:\n",
    "        print(\"* \", end=\"\")\n",
    "        col += 1\n",
    "    \n",
    "    print()\n",
    "    row += 1"
   ]
  },
  {
   "cell_type": "code",
   "execution_count": 70,
   "metadata": {},
   "outputs": [
    {
     "name": "stdout",
     "output_type": "stream",
     "text": [
      "* \n",
      "* * \n",
      "* * * \n",
      "* * * * \n",
      "* * * * * \n",
      "* * * * * * \n",
      "* * * * * * * \n",
      "* * * * * * * * \n",
      "* * * * * * * * * \n",
      "* * * * * * * * * * \n",
      "* * * * * * * * * \n",
      "* * * * * * * * \n",
      "* * * * * * * \n",
      "* * * * * * \n",
      "* * * * * \n",
      "* * * * \n",
      "* * * \n",
      "* * \n",
      "* \n"
     ]
    }
   ],
   "source": [
    "n = 10\n",
    "\n",
    "h_mirror = 0\n",
    "row = 0\n",
    "while h_mirror < 2 * n - 1:\n",
    "    col = 0\n",
    "    while col <= row:\n",
    "        print(\"* \", end=\"\")\n",
    "        col += 1\n",
    "    \n",
    "    print()\n",
    "    if h_mirror < n - 1:\n",
    "        row += 1  \n",
    "    else:\n",
    "        row -= 1\n",
    "    h_mirror += 1"
   ]
  },
  {
   "cell_type": "code",
   "execution_count": 72,
   "metadata": {},
   "outputs": [
    {
     "name": "stdout",
     "output_type": "stream",
     "text": [
      "* - - - - - - - - - \n",
      "* * - - - - - - - - \n",
      "* * * - - - - - - - \n",
      "* * * * - - - - - - \n",
      "* * * * * - - - - - \n",
      "* * * * * * - - - - \n",
      "* * * * * * * - - - \n",
      "* * * * * * * * - - \n",
      "* * * * * * * * * - \n",
      "* * * * * * * * * * \n",
      "* * * * * * * * * - \n",
      "* * * * * * * * - - \n",
      "* * * * * * * - - - \n",
      "* * * * * * - - - - \n",
      "* * * * * - - - - - \n",
      "* * * * - - - - - - \n",
      "* * * - - - - - - - \n",
      "* * - - - - - - - - \n",
      "* - - - - - - - - - \n"
     ]
    }
   ],
   "source": [
    "n = 10\n",
    "\n",
    "h_mirror = 0\n",
    "row = 0\n",
    "while h_mirror < 2 * n - 1:\n",
    "    col = 0\n",
    "    while col < n:\n",
    "        if col <= row:\n",
    "            print(\"* \", end=\"\")\n",
    "        else:\n",
    "            print(\"- \", end=\"\")\n",
    "        col += 1\n",
    "    \n",
    "    print()\n",
    "    if h_mirror < n - 1:\n",
    "        row += 1  \n",
    "    else:\n",
    "        row -= 1\n",
    "    h_mirror += 1"
   ]
  },
  {
   "cell_type": "code",
   "execution_count": 74,
   "metadata": {},
   "outputs": [
    {
     "name": "stdout",
     "output_type": "stream",
     "text": [
      "*                                   * \n",
      "* *                               * * \n",
      "* * *                           * * * \n",
      "* * * *                       * * * * \n",
      "* * * * *                   * * * * * \n",
      "* * * * * *               * * * * * * \n",
      "* * * * * * *           * * * * * * * \n",
      "* * * * * * * *       * * * * * * * * \n",
      "* * * * * * * * *   * * * * * * * * * \n",
      "* * * * * * * * * * * * * * * * * * * \n",
      "* * * * * * * * *   * * * * * * * * * \n",
      "* * * * * * * *       * * * * * * * * \n",
      "* * * * * * *           * * * * * * * \n",
      "* * * * * *               * * * * * * \n",
      "* * * * *                   * * * * * \n",
      "* * * *                       * * * * \n",
      "* * *                           * * * \n",
      "* *                               * * \n",
      "*                                   * \n"
     ]
    }
   ],
   "source": [
    "n = 10\n",
    "\n",
    "h_mirror = 0\n",
    "row = 0\n",
    "while h_mirror < 2 * n - 1:\n",
    "    col = 0\n",
    "    v_mirror = 0\n",
    "    while v_mirror < 2 * n - 1:\n",
    "        if col <= row:\n",
    "            print(\"* \", end=\"\")\n",
    "        else:\n",
    "            print(\"  \", end=\"\")\n",
    "        \n",
    "        if v_mirror < n-1:\n",
    "            col += 1\n",
    "        else:\n",
    "            col -= 1\n",
    "        v_mirror += 1\n",
    "    \n",
    "    print()\n",
    "    if h_mirror < n - 1:\n",
    "        row += 1  \n",
    "    else:\n",
    "        row -= 1\n",
    "    h_mirror += 1"
   ]
  },
  {
   "cell_type": "code",
   "execution_count": 75,
   "metadata": {},
   "outputs": [
    {
     "name": "stdout",
     "output_type": "stream",
     "text": [
      "  * * * * * * * * * * * * * * * * *   \n",
      "    * * * * * * * * * * * * * * *     \n",
      "      * * * * * * * * * * * * *       \n",
      "        * * * * * * * * * * *         \n",
      "          * * * * * * * * *           \n",
      "            * * * * * * *             \n",
      "              * * * * *               \n",
      "                * * *                 \n",
      "                  *                   \n",
      "                                      \n",
      "                  *                   \n",
      "                * * *                 \n",
      "              * * * * *               \n",
      "            * * * * * * *             \n",
      "          * * * * * * * * *           \n",
      "        * * * * * * * * * * *         \n",
      "      * * * * * * * * * * * * *       \n",
      "    * * * * * * * * * * * * * * *     \n",
      "  * * * * * * * * * * * * * * * * *   \n"
     ]
    }
   ],
   "source": [
    "n = 10\n",
    "\n",
    "h_mirror = 0\n",
    "row = 0\n",
    "while h_mirror < 2 * n - 1:\n",
    "    col = 0\n",
    "    v_mirror = 0\n",
    "    while v_mirror < 2 * n - 1:\n",
    "        if col <= row:\n",
    "            print(\"  \", end=\"\")\n",
    "        else:\n",
    "            print(\"* \", end=\"\")\n",
    "        \n",
    "        if v_mirror < n-1:\n",
    "            col += 1\n",
    "        else:\n",
    "            col -= 1\n",
    "        v_mirror += 1\n",
    "    \n",
    "    print()\n",
    "    if h_mirror < n - 1:\n",
    "        row += 1  \n",
    "    else:\n",
    "        row -= 1\n",
    "    h_mirror += 1"
   ]
  },
  {
   "cell_type": "code",
   "execution_count": 78,
   "metadata": {},
   "outputs": [
    {
     "name": "stdout",
     "output_type": "stream",
     "text": [
      "                  *                   \n",
      "                * * *                 \n",
      "              * * * * *               \n",
      "            * * * * * * *             \n",
      "          * * * * * * * * *           \n",
      "        * * * * * * * * * * *         \n",
      "      * * * * * * * * * * * * *       \n",
      "    * * * * * * * * * * * * * * *     \n",
      "  * * * * * * * * * * * * * * * * *   \n",
      "* * * * * * * * * * * * * * * * * * * \n",
      "  * * * * * * * * * * * * * * * * *   \n",
      "    * * * * * * * * * * * * * * *     \n",
      "      * * * * * * * * * * * * *       \n",
      "        * * * * * * * * * * *         \n",
      "          * * * * * * * * *           \n",
      "            * * * * * * *             \n",
      "              * * * * *               \n",
      "                * * *                 \n",
      "                  *                   \n"
     ]
    }
   ],
   "source": [
    "n = 10\n",
    "\n",
    "h_mirror = 0\n",
    "row = 0\n",
    "while h_mirror < 2 * n - 1:\n",
    "    col = 0\n",
    "    v_mirror = 0\n",
    "    while v_mirror < 2 * n - 1:\n",
    "        if col < n - row - 1:\n",
    "            print(\"  \", end=\"\")\n",
    "        else:\n",
    "            print(\"* \", end=\"\")\n",
    "        \n",
    "        if v_mirror < n-1:\n",
    "            col += 1\n",
    "        else:\n",
    "            col -= 1\n",
    "        v_mirror += 1\n",
    "    \n",
    "    print()\n",
    "    if h_mirror < n - 1:\n",
    "        row += 1  \n",
    "    else:\n",
    "        row -= 1\n",
    "    h_mirror += 1"
   ]
  },
  {
   "cell_type": "code",
   "execution_count": 79,
   "metadata": {},
   "outputs": [
    {
     "name": "stdout",
     "output_type": "stream",
     "text": [
      "* * * * * * * * * * * * * * * * * * * \n",
      "* * * * * * * * *   * * * * * * * * * \n",
      "* * * * * * * *       * * * * * * * * \n",
      "* * * * * * *           * * * * * * * \n",
      "* * * * * *               * * * * * * \n",
      "* * * * *                   * * * * * \n",
      "* * * *                       * * * * \n",
      "* * *                           * * * \n",
      "* *                               * * \n",
      "*                                   * \n",
      "* *                               * * \n",
      "* * *                           * * * \n",
      "* * * *                       * * * * \n",
      "* * * * *                   * * * * * \n",
      "* * * * * *               * * * * * * \n",
      "* * * * * * *           * * * * * * * \n",
      "* * * * * * * *       * * * * * * * * \n",
      "* * * * * * * * *   * * * * * * * * * \n",
      "* * * * * * * * * * * * * * * * * * * \n"
     ]
    }
   ],
   "source": [
    "n = 10\n",
    "\n",
    "h_mirror = 0\n",
    "row = 0\n",
    "while h_mirror < 2 * n - 1:\n",
    "    col = 0\n",
    "    v_mirror = 0\n",
    "    while v_mirror < 2 * n - 1:\n",
    "        if col < n - row :\n",
    "            print(\"* \", end=\"\")\n",
    "        else:\n",
    "            print(\"  \", end=\"\")\n",
    "        \n",
    "        if v_mirror < n-1:\n",
    "            col += 1\n",
    "        else:\n",
    "            col -= 1\n",
    "        v_mirror += 1\n",
    "    \n",
    "    print()\n",
    "    if h_mirror < n - 1:\n",
    "        row += 1  \n",
    "    else:\n",
    "        row -= 1\n",
    "    h_mirror += 1"
   ]
  },
  {
   "cell_type": "code",
   "execution_count": 80,
   "metadata": {},
   "outputs": [
    {
     "name": "stdout",
     "output_type": "stream",
     "text": [
      "* * * * * * * * *   * * * * * * * * * \n",
      "* * * * * * * *       * * * * * * * * \n",
      "* * * * * * *           * * * * * * * \n",
      "* * * * * *               * * * * * * \n",
      "* * * * *                   * * * * * \n",
      "* * * *                       * * * * \n",
      "* * *                           * * * \n",
      "* *                               * * \n",
      "*                                   * \n",
      "                                      \n",
      "*                                   * \n",
      "* *                               * * \n",
      "* * *                           * * * \n",
      "* * * *                       * * * * \n",
      "* * * * *                   * * * * * \n",
      "* * * * * *               * * * * * * \n",
      "* * * * * * *           * * * * * * * \n",
      "* * * * * * * *       * * * * * * * * \n",
      "* * * * * * * * *   * * * * * * * * * \n"
     ]
    }
   ],
   "source": [
    "n = 10\n",
    "\n",
    "h_mirror = 0\n",
    "row = 0\n",
    "while h_mirror < 2 * n - 1:\n",
    "    col = 0\n",
    "    v_mirror = 0\n",
    "    while v_mirror < 2 * n - 1:\n",
    "        if col < n - row - 1:\n",
    "            print(\"* \", end=\"\")\n",
    "        else:\n",
    "            print(\"  \", end=\"\")\n",
    "        \n",
    "        if v_mirror < n-1:\n",
    "            col += 1\n",
    "        else:\n",
    "            col -= 1\n",
    "        v_mirror += 1\n",
    "    \n",
    "    print()\n",
    "    if h_mirror < n - 1:\n",
    "        row += 1  \n",
    "    else:\n",
    "        row -= 1\n",
    "    h_mirror += 1"
   ]
  },
  {
   "cell_type": "code",
   "execution_count": null,
   "metadata": {},
   "outputs": [],
   "source": []
  }
 ],
 "metadata": {
  "kernelspec": {
   "display_name": "Python 3",
   "language": "python",
   "name": "python3"
  },
  "language_info": {
   "codemirror_mode": {
    "name": "ipython",
    "version": 3
   },
   "file_extension": ".py",
   "mimetype": "text/x-python",
   "name": "python",
   "nbconvert_exporter": "python",
   "pygments_lexer": "ipython3",
   "version": "3.7.7"
  }
 },
 "nbformat": 4,
 "nbformat_minor": 4
}
